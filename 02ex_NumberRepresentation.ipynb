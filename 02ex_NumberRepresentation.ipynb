{
 "cells": [
  {
   "cell_type": "code",
   "execution_count": 1,
   "metadata": {},
   "outputs": [],
   "source": [
    "import numpy as np"
   ]
  },
  {
   "cell_type": "markdown",
   "metadata": {},
   "source": [
    "1\\. Write a function that converts number representation, bin<->dec<->hex. (Clearly using the corresponding python built-in functions is not fair..)"
   ]
  },
  {
   "cell_type": "code",
   "execution_count": 2,
   "metadata": {},
   "outputs": [
    {
     "name": "stdout",
     "output_type": "stream",
     "text": [
      "Binary format: 101010\n",
      "Decimal format: 42\n",
      "Hexadecimal format: 2A\n"
     ]
    }
   ],
   "source": [
    "def converter(n: int):\n",
    "  powers_of_2 = [x for x in range(1, n+1) if np.log2(x)%1==0]\n",
    "\n",
    "  bin_form = ''\n",
    "  for i, p in enumerate(powers_of_2):\n",
    "    bin_form = str((n >> i) & 0b1) + bin_form\n",
    "  \n",
    "\n",
    "  powers_of_2.reverse()\n",
    "  dec_form = 0\n",
    "  for d, p in zip(bin_form, powers_of_2):\n",
    "    dec_form += int(d) * p\n",
    "\n",
    "  hex_values = ['0', '1', '2', '3', '4', '5', '6', '7', '8', '9', 'A', 'B', 'C', 'D', 'E', 'F']\n",
    "\n",
    "  powers_of_2.reverse()\n",
    "  hex_form = ''\n",
    "  for i in range(0, powers_of_2.__len__(), 4):\n",
    "    s = 0\n",
    "    for j in range(4):\n",
    "      s += ((n >> i + j) & 0b1) * powers_of_2[(i+j)%4]\n",
    "    hex_form = hex_values[s] + hex_form\n",
    "\n",
    "  print(f\"Binary format: {bin_form}\")\n",
    "  print(f\"Decimal format: {dec_form}\")\n",
    "  print(f\"Hexadecimal format: {hex_form}\")\n",
    "\n",
    "\n",
    "  \n",
    "\n",
    "converter(42)"
   ]
  },
  {
   "cell_type": "markdown",
   "metadata": {},
   "source": [
    "2\\. Write a function that converts a 32 bit word into a single precision floating point (i.e. interprets the various bits as sign, mantissa and exponent)"
   ]
  },
  {
   "cell_type": "code",
   "execution_count": 3,
   "metadata": {},
   "outputs": [
    {
     "name": "stdout",
     "output_type": "stream",
     "text": [
      "2.2974429591341104e-30\n"
     ]
    }
   ],
   "source": [
    "def float_interpreter(n):\n",
    "  \n",
    "  mantissa = n & 0x3FFFFF\n",
    "  exponent = (n >> 23) & 0xFF\n",
    "  sign = (n >> 31) & 0x1\n",
    "\n",
    "  result = 1\n",
    "\n",
    "  for i in range(1, 24):\n",
    "    result += ((mantissa >> 23 - i) & 0b1) * pow(2, -i)\n",
    "\n",
    "\n",
    "  result *= pow(-1, sign) * pow(2, exponent - 127)\n",
    "  print(result)\n",
    "\n",
    "number = 0b11000000101100000000000000000000\n",
    "number = 124792759302\n",
    "float_interpreter(number)"
   ]
  },
  {
   "cell_type": "markdown",
   "metadata": {},
   "source": [
    "3\\. Write a program to determine the underflow and overflow limits (within a factor of 2) for python on your computer. \n",
    "\n",
    "**Tips**: define two variables inizialized to 1 and halve/double them enough time to exceed the under/over-flow limits  "
   ]
  },
  {
   "cell_type": "code",
   "execution_count": 4,
   "metadata": {},
   "outputs": [],
   "source": [
    "lower, upper = 1, 1\n",
    "\n",
    "while lower > 0:\n",
    "  lower /= 2\n",
    "\n",
    "  # print(lower)\n",
    "  \n",
    "# there isn't an upper limit"
   ]
  },
  {
   "cell_type": "markdown",
   "metadata": {},
   "source": [
    "4\\. Write a program to determine the machine precision\n",
    "\n",
    "**Tips**: define a new variable by adding a smaller and smaller value (proceeding similarly to prob. 2) to an original variable and check the point where the two are the same "
   ]
  },
  {
   "cell_type": "code",
   "execution_count": 5,
   "metadata": {},
   "outputs": [
    {
     "name": "stdout",
     "output_type": "stream",
     "text": [
      "2.0 1.5\n",
      "2.25 2.0\n",
      "2.375 2.25\n",
      "2.4375 2.375\n",
      "2.46875 2.4375\n",
      "2.484375 2.46875\n",
      "2.4921875 2.484375\n",
      "2.49609375 2.4921875\n",
      "2.498046875 2.49609375\n",
      "2.4990234375 2.498046875\n",
      "2.49951171875 2.4990234375\n",
      "2.499755859375 2.49951171875\n",
      "2.4998779296875 2.499755859375\n",
      "2.49993896484375 2.4998779296875\n",
      "2.499969482421875 2.49993896484375\n",
      "2.4999847412109375 2.499969482421875\n",
      "2.4999923706054688 2.4999847412109375\n",
      "2.4999961853027344 2.4999923706054688\n",
      "2.499998092651367 2.4999961853027344\n",
      "2.4999990463256836 2.499998092651367\n",
      "2.499999523162842 2.4999990463256836\n",
      "2.499999761581421 2.499999523162842\n",
      "2.4999998807907104 2.499999761581421\n",
      "2.4999999403953552 2.4999998807907104\n",
      "2.4999999701976776 2.4999999403953552\n",
      "2.499999985098839 2.4999999701976776\n",
      "2.4999999925494194 2.499999985098839\n",
      "2.4999999962747097 2.4999999925494194\n",
      "2.499999998137355 2.4999999962747097\n",
      "2.4999999990686774 2.499999998137355\n",
      "2.4999999995343387 2.4999999990686774\n",
      "2.4999999997671694 2.4999999995343387\n",
      "2.4999999998835847 2.4999999997671694\n",
      "2.4999999999417923 2.4999999998835847\n",
      "2.499999999970896 2.4999999999417923\n",
      "2.499999999985448 2.499999999970896\n",
      "2.499999999992724 2.499999999985448\n",
      "2.499999999996362 2.499999999992724\n",
      "2.499999999998181 2.499999999996362\n",
      "2.4999999999990905 2.499999999998181\n",
      "2.4999999999995453 2.4999999999990905\n",
      "2.4999999999997726 2.4999999999995453\n",
      "2.4999999999998863 2.4999999999997726\n",
      "2.499999999999943 2.4999999999998863\n",
      "2.4999999999999716 2.499999999999943\n",
      "2.499999999999986 2.4999999999999716\n",
      "2.499999999999993 2.499999999999986\n",
      "2.4999999999999964 2.499999999999993\n",
      "2.4999999999999982 2.4999999999999964\n",
      "2.499999999999999 2.4999999999999982\n",
      "2.4999999999999996 2.499999999999999\n",
      "2.5 2.4999999999999996\n",
      "2.5 2.5\n",
      "Machine precision is up to 2^(-54)\n"
     ]
    }
   ],
   "source": [
    "x = 1\n",
    "\n",
    "x_old = x\n",
    "x += 0.5\n",
    "\n",
    "i = 1\n",
    "\n",
    "while x_old < x:\n",
    "  \n",
    "  x_old = x\n",
    "  x += pow(2, -i)\n",
    "  i+= 1\n",
    "\n",
    "  print(x, x_old)\n",
    "\n",
    "print(f\"Machine precision is up to 2^({-i})\")"
   ]
  },
  {
   "cell_type": "markdown",
   "metadata": {},
   "source": [
    "5\\. Write a function that takes in input three parameters $a$, $b$ and $c$ and prints out the two solutions to the quadratic equation $ax^2+bx+c=0$ using the standard formula:\n",
    "$$\n",
    "x=\\frac{-b\\pm\\sqrt{b^2-4ac}}{2a}\n",
    "$$\n",
    "\n",
    "(a) use the program to compute the solution for $a=0.001$, $b=1000$ and $c=0.001$\n",
    "\n",
    "(b) re-express the standard solution formula by multiplying top and bottom by $-b\\mp\\sqrt{b^2-4ac}$ and again find the solution for $a=0.001$, $b=1000$ and $c=0.001$. How does it compare with what previously obtained? Why?\n",
    "\n",
    "(c) write a function that compute the roots of a quadratic equation accurately in all cases"
   ]
  },
  {
   "cell_type": "code",
   "execution_count": 6,
   "metadata": {},
   "outputs": [],
   "source": [
    "a = 0.001\n",
    "b = 1000\n",
    "c = 0.001"
   ]
  },
  {
   "cell_type": "code",
   "execution_count": 7,
   "metadata": {},
   "outputs": [
    {
     "name": "stdout",
     "output_type": "stream",
     "text": [
      "(np.float64(-1.000344559614281e-06), np.float64(-1000279.3426212303))\n"
     ]
    }
   ],
   "source": [
    "a = 0.001\n",
    "b = 1000\n",
    "c = 0.001\n",
    "\n",
    "a = a + np.random.uniform(0, a/1000)\n",
    "b = b + np.random.uniform(0, b/1000)\n",
    "c = c + np.random.uniform(0, c/1000)\n",
    "\n",
    "\n",
    "\n",
    "def quadratic_equation_solver_a(a, b, c):\n",
    "  x1 = (-b + np.sqrt(b**2 - 4 * a * c)) / (2 * a)\n",
    "  x2 = (-b - np.sqrt(b**2 - 4 * a * c)) / (2 * a)\n",
    "\n",
    "  return x1, x2\n",
    "\n",
    "print(quadratic_equation_solver_a(a, b, c))"
   ]
  },
  {
   "cell_type": "code",
   "execution_count": 8,
   "metadata": {},
   "outputs": [
    {
     "name": "stdout",
     "output_type": "stream",
     "text": [
      "(np.float64(-1.0000643862469378e-06), np.float64(-999742.8322240605))\n"
     ]
    }
   ],
   "source": [
    "a = 0.001\n",
    "b = 1000\n",
    "c = 0.001\n",
    "\n",
    "a = a + np.random.uniform(0, a/1000)\n",
    "b = b + np.random.uniform(0, b/1000)\n",
    "c = c + np.random.uniform(0, c/1000)\n",
    "\n",
    "def quadratic_equation_solver_b(a, b, c):\n",
    "  x1 = (4 * a * c) / (2 * a * (-b - np.sqrt(b**2 - 4 * a * c)))\n",
    "  x2 = (4 * a * c) / (2 * a * (-b + np.sqrt(b**2 - 4 * a * c)))\n",
    "\n",
    "  return x1, x2\n",
    "\n",
    "print(quadratic_equation_solver_b(a, b, c))"
   ]
  },
  {
   "cell_type": "markdown",
   "metadata": {},
   "source": [
    "6\\. Write a program that implements the function $f(x)=x(x−1)$\n",
    "\n",
    "(a) Calculate the derivative of the function at the point $x = 1$ using the derivative definition:\n",
    "\n",
    "$$\n",
    "\\frac{{\\rm d}f}{{\\rm d}x} = \\lim_{\\delta\\to0} \\frac{f(x+\\delta)-f(x)}{\\delta}\n",
    "$$\n",
    "\n",
    "with $\\delta = 10^{−2}$. Calculate the true value of the same derivative analytically and compare with the answer your program gives. The two will not agree perfectly. Why not?\n",
    "\n",
    "(b) Repeat the calculation for $\\delta = 10^{−4}, 10^{−6}, 10^{−8}, 10^{−10}, 10^{−12}$ and $10^{−14}$. How does the accuracy scales with $\\delta$?"
   ]
  },
  {
   "cell_type": "code",
   "execution_count": null,
   "metadata": {},
   "outputs": [],
   "source": [
    "def func(x: float) -> float:\n",
    "  return x * (x - 1)"
   ]
  },
  {
   "cell_type": "code",
   "execution_count": 11,
   "metadata": {},
   "outputs": [],
   "source": [
    "def derivative(x: float, delta: float, f) -> float:\n",
    "  der = (f(x + delta) - f(x)) / delta\n",
    "  return der"
   ]
  },
  {
   "cell_type": "code",
   "execution_count": 15,
   "metadata": {},
   "outputs": [],
   "source": [
    "def analytical_derivative(x: float):\n",
    "  return 2 * x - 1"
   ]
  },
  {
   "cell_type": "code",
   "execution_count": 21,
   "metadata": {},
   "outputs": [
    {
     "name": "stdout",
     "output_type": "stream",
     "text": [
      "1.010000000000001\n",
      "1\n"
     ]
    }
   ],
   "source": [
    "# a\n",
    "x = 1\n",
    "delta = pow(10, -2)\n",
    "\n",
    "ana_der = analytical_derivative(x)\n",
    "\n",
    "print(derivative(x, delta, func))\n",
    "print(ana_der)"
   ]
  },
  {
   "cell_type": "code",
   "execution_count": 27,
   "metadata": {},
   "outputs": [
    {
     "name": "stdout",
     "output_type": "stream",
     "text": [
      "[9.999999988985486e-05, 9.99917733279787e-07, 3.922528746258536e-09, 8.284037100736441e-08, 8.890058334132256e-05, -0.0007992778373491216]\n"
     ]
    }
   ],
   "source": [
    "# b\n",
    "\n",
    "errors = []\n",
    "for i in range(4, 15, 2):\n",
    "  delta = pow(10, -i)\n",
    "  der = derivative(x, delta, func)\n",
    "  errors.append(der - ana_der)\n",
    "\n",
    "print(errors)"
   ]
  },
  {
   "cell_type": "code",
   "execution_count": 30,
   "metadata": {},
   "outputs": [
    {
     "name": "stderr",
     "output_type": "stream",
     "text": [
      "/tmp/ipykernel_10557/921071929.py:7: UserWarning: FigureCanvasAgg is non-interactive, and thus cannot be shown\n",
      "  fig.show()\n"
     ]
    },
    {
     "data": {
      "image/png": "[encoded data removed]",
      "text/plain": [
       "<Figure size 640x480 with 1 Axes>"
      ]
     },
     "metadata": {},
     "output_type": "display_data"
    }
   ],
   "source": [
    "import matplotlib.pyplot as plt\n",
    "\n",
    "fig, ax = plt.subplots()\n",
    "\n",
    "ax.scatter(range(errors.__len__()), errors)\n",
    "\n",
    "fig.show()"
   ]
  },
  {
   "cell_type": "markdown",
   "metadata": {},
   "source": [
    "7\\. Consider the integral of the semicircle of radius 1:\n",
    "$$\n",
    "I=\\int_{-1}^{1} \\sqrt(1-x^2) {\\rm d}x\n",
    "$$\n",
    "which it's known to be $I=\\frac{\\pi}{2}=1.57079632679...$.\n",
    "Alternatively we can use the Riemann definition of the integral:\n",
    "$$\n",
    "I=\\lim_{N\\to\\infty} \\sum_{k=1}^{N} h y_k \n",
    "$$\n",
    "\n",
    "with $h=2/N$ the width of each of the $N$ slices the domain is divided into and where\n",
    "$y_k$ is the value of the function at the $k-$th slice.\n",
    "\n",
    "(a) Write a programe to compute the integral with $N=100$. How does the result compares to the true value?\n",
    "\n",
    "(b) How much can $N$ be increased if the computation needs to be run in less than a second? What is the gain in running it for 1 minute? \n"
   ]
  },
  {
   "cell_type": "code",
   "execution_count": 36,
   "metadata": {},
   "outputs": [],
   "source": [
    "def semicircle(x: float):\n",
    "  return np.sqrt(1 - x**2)"
   ]
  },
  {
   "cell_type": "code",
   "execution_count": 52,
   "metadata": {},
   "outputs": [],
   "source": [
    "# a\n",
    "def riemann_integral(x1: float, x2: float, n: int, f):\n",
    "  step = (x2 - x1) / n\n",
    "  \n",
    "  s = 0\n",
    "  for i in range(n):\n",
    "    y = f(x1 + step * i)\n",
    "    s += y\n",
    "    \n",
    "\n",
    "  s *= step\n",
    "  return s"
   ]
  },
  {
   "cell_type": "code",
   "execution_count": 59,
   "metadata": {},
   "outputs": [
    {
     "name": "stdout",
     "output_type": "stream",
     "text": [
      "1.570796326742408\n"
     ]
    }
   ],
   "source": [
    "n = 10000000\n",
    "x1, x2 = -1, 1\n",
    "\n",
    "#print(semicircle(-0.9))\n",
    "\n",
    "area = riemann_integral(x1, x2, n, semicircle)\n",
    "print(area)"
   ]
  }
 ],
 "metadata": {
  "kernelspec": {
   "display_name": ".venv",
   "language": "python",
   "name": "python3"
  },
  "language_info": {
   "codemirror_mode": {
    "name": "ipython",
    "version": 3
   },
   "file_extension": ".py",
   "mimetype": "text/x-python",
   "name": "python",
   "nbconvert_exporter": "python",
   "pygments_lexer": "ipython3",
   "version": "3.12.3"
  }
 },
 "nbformat": 4,
 "nbformat_minor": 2
}
