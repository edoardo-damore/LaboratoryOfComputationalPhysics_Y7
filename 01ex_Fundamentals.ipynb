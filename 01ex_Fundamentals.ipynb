{
 "cells": [
  {
   "cell_type": "markdown",
   "metadata": {},
   "source": [
    "0\\. Implement a function (whatever you want) and save it to a file (e.g. `function.py`). Import that file and use that function in this notebook.\n"
   ]
  },
  {
   "cell_type": "code",
   "execution_count": 20,
   "metadata": {},
   "outputs": [],
   "source": [
    "from my_function import my_func"
   ]
  },
  {
   "cell_type": "code",
   "execution_count": 21,
   "metadata": {},
   "outputs": [
    {
     "name": "stdout",
     "output_type": "stream",
     "text": [
      "This is my function!\n"
     ]
    }
   ],
   "source": [
    "my_func()"
   ]
  },
  {
   "cell_type": "markdown",
   "metadata": {},
   "source": [
    "1\\. Write the following as a list comprehension"
   ]
  },
  {
   "cell_type": "code",
   "execution_count": 2,
   "metadata": {},
   "outputs": [
    {
     "name": "stdout",
     "output_type": "stream",
     "text": [
      "[(0, 0), (0, 1), (0, 2), (0, 3), (1, 0), (1, 1), (1, 2), (1, 3), (2, 0), (2, 1), (2, 2), (2, 3)]\n",
      "[0, 4, 16]\n"
     ]
    }
   ],
   "source": [
    "# 1\n",
    "ans = []\n",
    "for i in range(3):\n",
    "    for j in range(4):\n",
    "        ans.append((i, j))\n",
    "print (ans)\n",
    "\n",
    "# 2\n",
    "ans = map(lambda x: x*x, filter(lambda x: x%2 == 0, range(5)))\n",
    "print (list(ans))\n",
    "\n"
   ]
  },
  {
   "cell_type": "code",
   "execution_count": 4,
   "metadata": {},
   "outputs": [
    {
     "name": "stdout",
     "output_type": "stream",
     "text": [
      "[(0, 0), (0, 1), (0, 2), (0, 3), (1, 0), (1, 1), (1, 2), (1, 3), (2, 0), (2, 1), (2, 2), (2, 3)]\n",
      "[0, 4, 16]\n"
     ]
    }
   ],
   "source": [
    "# answer\n",
    "ans = [(a,b) for a in range(3) for b in range(4)]\n",
    "print(ans)\n",
    "\n",
    "ans = [x**2 for x in range(5) if x%2==0]\n",
    "print(ans)"
   ]
  },
  {
   "cell_type": "markdown",
   "metadata": {},
   "source": [
    "2\\. Convert the following function into a pure function with no global variables or side effects"
   ]
  },
  {
   "cell_type": "code",
   "execution_count": 5,
   "metadata": {},
   "outputs": [
    {
     "name": "stdout",
     "output_type": "stream",
     "text": [
      "[1, 2, 3, 0, 1, 2, 3, 4]\n",
      "[1, 2, 3, 0, 1, 2, 3, 4]\n"
     ]
    }
   ],
   "source": [
    "x = 5\n",
    "def f(alist):\n",
    "    for i in range(x):\n",
    "         alist.append(i)\n",
    "    return alist\n",
    "\n",
    "alist = [1,2,3]\n",
    "ans = f(alist)\n",
    "print (ans)\n",
    "print (alist) # alist has been changed!"
   ]
  },
  {
   "cell_type": "code",
   "execution_count": 6,
   "metadata": {},
   "outputs": [
    {
     "name": "stdout",
     "output_type": "stream",
     "text": [
      "[1, 2, 3, 0, 1, 2, 3, 4]\n",
      "[1, 2, 3]\n"
     ]
    }
   ],
   "source": [
    "# answer\n",
    "def f(alist):\n",
    "  x = 5\n",
    "  alist = alist.copy()\n",
    "  for i in range(x):\n",
    "    alist.append(i)\n",
    "  return alist\n",
    "\n",
    "alist = [1,2,3]\n",
    "ans = f(alist)\n",
    "print(ans)\n",
    "print(alist)"
   ]
  },
  {
   "cell_type": "markdown",
   "metadata": {},
   "source": [
    "3\\. Write a `decorator` hello that makes every wrapped function print “Hello!”, i.e. something like:\n",
    "\n",
    "```python\n",
    "@hello\n",
    "def square(x):\n",
    "    return x*x\n",
    "```\n",
    "\n"
   ]
  },
  {
   "cell_type": "code",
   "execution_count": 42,
   "metadata": {},
   "outputs": [
    {
     "name": "stdout",
     "output_type": "stream",
     "text": [
      "This is my function!\n",
      "This is my function!\n",
      "Hello!\n",
      "temp\n",
      "Hello!\n"
     ]
    }
   ],
   "source": [
    "# answer\n",
    "def hello(func):\n",
    "  def wrapper():\n",
    "    func()\n",
    "    print(\"Hello!\")\n",
    "    return\n",
    "  return wrapper\n",
    "\n",
    "wrapped_func = hello(my_func)\n",
    "my_func()\n",
    "wrapped_func()\n",
    "\n",
    "@hello\n",
    "def temp_func():\n",
    "  print(\"temp\")\n",
    "  return\n",
    "\n",
    "temp_func()"
   ]
  },
  {
   "cell_type": "markdown",
   "metadata": {},
   "source": [
    "4\\. Write the factorial function so that it a) does and b) does not use recursion."
   ]
  },
  {
   "cell_type": "code",
   "execution_count": 30,
   "metadata": {},
   "outputs": [
    {
     "name": "stdout",
     "output_type": "stream",
     "text": [
      "720\n"
     ]
    }
   ],
   "source": [
    "# answer a\n",
    "def recursive_factorial(x: int) -> int:\n",
    "  if x > 2:\n",
    "    return x * recursive_factorial(x - 1)\n",
    "  \n",
    "  return x\n",
    "\n",
    "print(recursive_factorial(6))"
   ]
  },
  {
   "cell_type": "code",
   "execution_count": 29,
   "metadata": {},
   "outputs": [
    {
     "name": "stdout",
     "output_type": "stream",
     "text": [
      "720\n"
     ]
    }
   ],
   "source": [
    "# answer b\n",
    "def non_recursive_factorial(x: int) -> int:\n",
    "  prod = x\n",
    "  while x > 2:\n",
    "    x -= 1\n",
    "    prod *= x\n",
    "  \n",
    "  return prod\n",
    "\n",
    "print(non_recursive_factorial(6))"
   ]
  },
  {
   "cell_type": "markdown",
   "metadata": {},
   "source": [
    "5\\. Use HOFs (zip in particular) to compute the weight of a circle, a disk and a sphere, assuming different radii and different densities:\n",
    "\n",
    "```python\n",
    "densities = {\"Al\":[0.5,1,2],\"Fe\":[3,4,5],\"Pb\": [15,20,30]}\n",
    "radii = [1,2,3]\n",
    "```\n",
    "\n",
    "where the entries of the dictionary's values are the linear, superficial and volumetric densities of the materials respectively.\n",
    "\n",
    "In particular define a list of three lambda functions using a comprehension that computes the circumference, the area and the volume for a given radius.\n"
   ]
  },
  {
   "cell_type": "code",
   "execution_count": 8,
   "metadata": {},
   "outputs": [
    {
     "name": "stdout",
     "output_type": "stream",
     "text": [
      "3.141592653589793\n",
      "1.5707963267948966\n",
      "2.0943951023931953\n",
      "12.566370614359172\n",
      "12.566370614359172\n",
      "33.510321638291124\n",
      "37.69911184307752\n",
      "56.548667764616276\n",
      "226.19467105846508\n",
      "18.84955592153876\n",
      "9.42477796076938\n",
      "12.566370614359172\n",
      "50.26548245743669\n",
      "50.26548245743669\n",
      "134.0412865531645\n",
      "94.24777960769379\n",
      "141.3716694115407\n",
      "565.4866776461627\n",
      "94.24777960769379\n",
      "47.12388980384689\n",
      "62.831853071795855\n",
      "251.32741228718345\n",
      "251.32741228718345\n",
      "670.2064327658225\n",
      "565.4866776461628\n",
      "848.2300164692441\n",
      "3392.920065876976\n"
     ]
    }
   ],
   "source": [
    "# answer\n",
    "import math\n",
    "\n",
    "densities = {\"Al\": [0.5, 1, 2], \"Fe\": [3, 4, 5], \"Pb\": [15, 20, 30]}\n",
    "radii = [1, 2, 3]\n",
    "\n",
    "# solver = [(lambda r: 2 * math.pi * pow(r, 2)), (lambda r: 1 * math.pi * pow(r, 2)), (lambda r: 4/3 * math.pi * pow(r, 3))]\n",
    "\n",
    "solver = [lambda r, a=a, i=i: a * math.pi * pow(r, i+1) for i, a in enumerate([2, 1, 4/3])]\n",
    "\n",
    "for material in densities.keys():\n",
    "  for r, d in zip(radii, densities[material]):\n",
    "    for i in range(solver.__len__()):\n",
    "      print(solver[i](r) * d)"
   ]
  },
  {
   "cell_type": "markdown",
   "metadata": {},
   "source": [
    "6\\. Edit the class defintion to add an instance attribute of is_hungry = True to the Dog class. Then add a method called eat() which changes the value of is_hungry to False when called. Figure out the best way to feed each dog and then output “My dogs are hungry.” if all are hungry or “My dogs are not hungry.” if all are not hungry. The final output should look like this:\n",
    "\n",
    "`I have 3 dogs. \n",
    "Tom is 6. \n",
    "Fletcher is 7. \n",
    "Larry is 9. \n",
    "And they're all mammals, of course. \n",
    "My dogs are not hungry.\n",
    "`\n",
    "\n",
    "```python\n",
    "# Parent class\n",
    "class Dog:\n",
    "\n",
    "    # Class attribute\n",
    "    species = 'mammal'\n",
    "\n",
    "    # Initializer / Instance attributes\n",
    "    def __init__(self, name, age):\n",
    "        self.name = name\n",
    "        self.age = age\n",
    "\n",
    "    # instance method\n",
    "    def description(self):\n",
    "        return \"{} is {} years old\".format(self.name, self.age)\n",
    "\n",
    "    # instance method\n",
    "    def speak(self, sound):\n",
    "        return \"{} says {}\".format(self.name, sound)\n",
    "\n",
    "# Child class (inherits from Dog class)\n",
    "class RussellTerrier(Dog):\n",
    "    def run(self, speed):\n",
    "        return \"{} runs {}\".format(self.name, speed)\n",
    "\n",
    "# Child class (inherits from Dog class)\n",
    "class Bulldog(Dog):\n",
    "    def run(self, speed):\n",
    "        return \"{} runs {}\".format(self.name, speed)\n",
    "```"
   ]
  },
  {
   "cell_type": "code",
   "execution_count": 35,
   "metadata": {},
   "outputs": [],
   "source": [
    "class Dog:\n",
    "\n",
    "    # Class attribute\n",
    "    species = 'mammal'\n",
    "    is_hungry = True\n",
    "\n",
    "    # Initializer / Instance attributes\n",
    "    def __init__(self, name, age):\n",
    "        self.name = name\n",
    "        self.age = age\n",
    "\n",
    "    # instance method\n",
    "    def description(self):\n",
    "        return \"{} is {} years old\".format(self.name, self.age)\n",
    "\n",
    "    # instance method\n",
    "    def speak(self, sound):\n",
    "        return \"{} says {}\".format(self.name, sound)\n",
    "\n",
    "    def eat(self):\n",
    "        self.is_hungry = False\n",
    "        return\n",
    "\n",
    "# Child class (inherits from Dog class)\n",
    "class RussellTerrier(Dog):\n",
    "    def run(self, speed):\n",
    "        return \"{} runs {}\".format(self.name, speed)\n",
    "\n",
    "# Child class (inherits from Dog class)\n",
    "class Bulldog(Dog):\n",
    "    def run(self, speed):\n",
    "        return \"{} runs {}\".format(self.name, speed)"
   ]
  },
  {
   "cell_type": "code",
   "execution_count": 41,
   "metadata": {},
   "outputs": [
    {
     "name": "stdout",
     "output_type": "stream",
     "text": [
      "I have 3 dogs. Tom is 6. Fletcher is 7. Larry is 9. And they are all mammals, of course. \n"
     ]
    }
   ],
   "source": [
    "# answer\n",
    "my_dogs = []\n",
    "my_dogs.append(Bulldog(\"Tom\", 6))\n",
    "my_dogs.append(RussellTerrier(\"Fletcher\", 7))\n",
    "my_dogs.append(Bulldog(\"Larry\", 9))\n",
    "\n",
    "\n",
    "for good_boy in my_dogs:\n",
    "  good_boy.eat()\n",
    "\n",
    "statement = f\"I have {my_dogs.__len__()} dogs. \"\n",
    "\n",
    "are_mammals = True\n",
    "are_hungry = 0\n",
    "\n",
    "\n",
    "for good_boy in my_dogs:\n",
    "  statement += f\"{good_boy.name} is {good_boy.age}. \"\n",
    "  if good_boy.species != \"mammal\": are_mammals = False\n",
    "  if good_boy.is_hungry: are_hungry += 1\n",
    "\n",
    "if are_mammals: statement += f\"And they are all mammals, of course. \"\n",
    "if are_hungry == 0: statement += f\"My dogs are not hungry.\"\n",
    "elif are_hungry == my_dogs.__len__(): statement += f\"My dogs are hungry.\"\n",
    "\n",
    "print(statement)"
   ]
  }
 ],
 "metadata": {
  "kernelspec": {
   "display_name": ".venv",
   "language": "python",
   "name": "python3"
  },
  "language_info": {
   "codemirror_mode": {
    "name": "ipython",
    "version": 3
   },
   "file_extension": ".py",
   "mimetype": "text/x-python",
   "name": "python",
   "nbconvert_exporter": "python",
   "pygments_lexer": "ipython3",
   "version": "3.12.3"
  }
 },
 "nbformat": 4,
 "nbformat_minor": 2
}
