{
 "cells": [
  {
   "cell_type": "markdown",
   "metadata": {},
   "source": [
    "1 in exam"
   ]
  },
  {
   "cell_type": "markdown",
   "metadata": {},
   "source": [
    "### Numpy basics"
   ]
  },
  {
   "cell_type": "code",
   "execution_count": 1,
   "metadata": {},
   "outputs": [],
   "source": [
    "import numpy as np\n",
    "import matplotlib.pyplot as plt"
   ]
  },
  {
   "cell_type": "markdown",
   "metadata": {},
   "source": [
    "1\\. Find the row, column and overall means for the following matrix:\n",
    "\n",
    "```python\n",
    "m = np.arange(12).reshape((3,4))\n",
    "```"
   ]
  },
  {
   "cell_type": "code",
   "execution_count": 2,
   "metadata": {},
   "outputs": [
    {
     "name": "stdout",
     "output_type": "stream",
     "text": [
      "Rows:\n",
      "[0 1 2 3] 1.5\n",
      "[4 5 6 7] 5.5\n",
      "[ 8  9 10 11] 9.5\n",
      "Columns:\n",
      "[0 4 8] 4.0\n",
      "[1 5 9] 5.0\n",
      "[ 2  6 10] 6.0\n",
      "[ 3  7 11] 7.0\n"
     ]
    }
   ],
   "source": [
    "m = np.arange(12).reshape(3,4)\n",
    "\n",
    "print(\"Rows:\")\n",
    "for row in m:\n",
    "  print(row, np.mean(row))\n",
    "\n",
    "print(\"Columns:\")\n",
    "for col in m.T:\n",
    "  print(col, np.mean(col))"
   ]
  },
  {
   "cell_type": "markdown",
   "metadata": {},
   "source": [
    "2\\. Find the outer product of the following two vecotrs\n",
    "\n",
    "```python\n",
    "u = np.array([1,3,5,7])\n",
    "v = np.array([2,4,6,8])\n",
    "```\n",
    "\n",
    "Do this in the following ways:\n",
    "\n",
    "   * Using the function outer in numpy\n",
    "   * Using a nested for loop or list comprehension\n",
    "   * Using numpy broadcasting operatoins\n"
   ]
  },
  {
   "cell_type": "code",
   "execution_count": 3,
   "metadata": {},
   "outputs": [
    {
     "name": "stdout",
     "output_type": "stream",
     "text": [
      "np.outer\n",
      "[[ 2  4  6  8]\n",
      " [ 6 12 18 24]\n",
      " [10 20 30 40]\n",
      " [14 28 42 56]] \n",
      "\n",
      "List comprehention\n",
      "[[np.int64(2), np.int64(4), np.int64(6), np.int64(8)], [np.int64(6), np.int64(12), np.int64(18), np.int64(24)], [np.int64(10), np.int64(20), np.int64(30), np.int64(40)], [np.int64(14), np.int64(28), np.int64(42), np.int64(56)]] \n",
      "\n",
      "Broadcast\n",
      "[[ 2  4  6  8]\n",
      " [ 6 12 18 24]\n",
      " [10 20 30 40]\n",
      " [14 28 42 56]]\n"
     ]
    }
   ],
   "source": [
    "u = np.array([1,3,5,7])\n",
    "v = np.array([2,4,6,8])\n",
    "\n",
    "print(\"np.outer\")\n",
    "print(np.outer(u,v), '\\n')\n",
    "\n",
    "o = [list(ui * v) for ui in u]\n",
    "print(\"List comprehention\")\n",
    "print(o, '\\n')\n",
    "\n",
    "b = u.reshape(-1, 1) * v\n",
    "print(\"Broadcast\")\n",
    "print(b)"
   ]
  },
  {
   "cell_type": "markdown",
   "metadata": {},
   "source": [
    "3\\. Create a 10 by 6 matrix of random uniform numbers. Set all rows with any entry less than 0.1 to be zero\n",
    "\n",
    "Hint: Use the following numpy functions - np.random.random, np.any as well as Boolean indexing and the axis argument."
   ]
  },
  {
   "cell_type": "code",
   "execution_count": 4,
   "metadata": {},
   "outputs": [
    {
     "name": "stdout",
     "output_type": "stream",
     "text": [
      "[[0.         0.         0.         0.         0.         0.        ]\n",
      " [0.2264651  0.68052528 0.67753053 0.51612967 0.33739086 0.48644655]\n",
      " [0.         0.         0.         0.         0.         0.        ]\n",
      " [0.         0.         0.         0.         0.         0.        ]\n",
      " [0.         0.         0.         0.         0.         0.        ]\n",
      " [0.         0.         0.         0.         0.         0.        ]\n",
      " [0.         0.         0.         0.         0.         0.        ]\n",
      " [0.         0.         0.         0.         0.         0.        ]\n",
      " [0.         0.         0.         0.         0.         0.        ]\n",
      " [0.         0.         0.         0.         0.         0.        ]]\n"
     ]
    }
   ],
   "source": [
    "shape = (10,6)\n",
    "\n",
    "m = np.random.random(size=shape)\n",
    "indexes = np.any(m < 0.1, axis=1)\n",
    "m[indexes,:] = np.zeros(shape=shape[1])\n",
    "\n",
    "print(m)"
   ]
  },
  {
   "cell_type": "markdown",
   "metadata": {},
   "source": [
    "4\\. Use np.linspace to create an array of 100 numbers between 0 and 2π (includsive).\n",
    "\n",
    "  * Extract every 10th element using slice notation\n",
    "  * Reverse the array using slice notation\n",
    "  * Extract elements where the absolute difference between the sine and cosine functions evaluated at that element is less than 0.1\n",
    "  * Make a plot showing the sin and cos functions and indicate where they are close"
   ]
  },
  {
   "cell_type": "code",
   "execution_count": 5,
   "metadata": {},
   "outputs": [
    {
     "name": "stdout",
     "output_type": "stream",
     "text": [
      "[0.         0.63466518 1.26933037 1.90399555 2.53866073 3.17332591\n",
      " 3.8079911  4.44265628 5.07732146 5.71198664]\n",
      "[6.28318531 6.21971879 6.15625227 6.09278575 6.02931923 5.96585272\n",
      " 5.9023862  5.83891968 5.77545316 5.71198664 5.64852012 5.58505361\n",
      " 5.52158709 5.45812057 5.39465405 5.33118753 5.26772102 5.2042545\n",
      " 5.14078798 5.07732146 5.01385494 4.95038842 4.88692191 4.82345539\n",
      " 4.75998887 4.69652235 4.63305583 4.56958931 4.5061228  4.44265628\n",
      " 4.37918976 4.31572324 4.25225672 4.1887902  4.12532369 4.06185717\n",
      " 3.99839065 3.93492413 3.87145761 3.8079911  3.74452458 3.68105806\n",
      " 3.61759154 3.55412502 3.4906585  3.42719199 3.36372547 3.30025895\n",
      " 3.23679243 3.17332591 3.10985939 3.04639288 2.98292636 2.91945984\n",
      " 2.85599332 2.7925268  2.72906028 2.66559377 2.60212725 2.53866073\n",
      " 2.47519421 2.41172769 2.34826118 2.28479466 2.22132814 2.15786162\n",
      " 2.0943951  2.03092858 1.96746207 1.90399555 1.84052903 1.77706251\n",
      " 1.71359599 1.65012947 1.58666296 1.52319644 1.45972992 1.3962634\n",
      " 1.33279688 1.26933037 1.20586385 1.14239733 1.07893081 1.01546429\n",
      " 0.95199777 0.88853126 0.82506474 0.76159822 0.6981317  0.63466518\n",
      " 0.57119866 0.50773215 0.44426563 0.38079911 0.31733259 0.25386607\n",
      " 0.19039955 0.12693304 0.06346652 0.        ]\n",
      "[0.76159822 0.82506474 3.87145761 3.93492413]\n"
     ]
    },
    {
     "data": {
      "image/png": "[encoded data removed]",
      "text/plain": [
       "<Figure size 640x480 with 1 Axes>"
      ]
     },
     "metadata": {},
     "output_type": "display_data"
    }
   ],
   "source": [
    "l = np.linspace(0, 2 * np.pi, 100)\n",
    "\n",
    "print(l[::10])\n",
    "print(l[::-1])\n",
    "\n",
    "close = l[np.fabs(np.sin(l) - np.cos(l)) < 0.1]\n",
    "print(close)\n",
    "\n",
    "fig, ax = plt.subplots()\n",
    "\n",
    "ax.plot(l, np.sin(l))\n",
    "ax.plot(l, np.cos(l))\n",
    "ax.vlines(close, ymin=np.min(np.sin(l)), ymax=np.max(np.sin(l)), colors='r', linestyles='dashed')\n",
    "\n",
    "ax.set_xlim(l[0],l[-1])\n",
    "ax.set_ylim(-1, 1)\n",
    "\n",
    "plt.show()"
   ]
  },
  {
   "cell_type": "markdown",
   "metadata": {},
   "source": [
    "5\\. Create a matrix that shows the 10 by 10 multiplication table.\n",
    "\n",
    " * Find the trace of the matrix\n",
    " * Extract the anto-diagonal (this should be ```array([10, 18, 24, 28, 30, 30, 28, 24, 18, 10])```)\n",
    " * Extract the diagnoal offset by 1 upwards (this should be ```array([ 2,  6, 12, 20, 30, 42, 56, 72, 90])```)"
   ]
  },
  {
   "cell_type": "code",
   "execution_count": 6,
   "metadata": {},
   "outputs": [
    {
     "name": "stdout",
     "output_type": "stream",
     "text": [
      "385\n",
      "[10 18 24 28 30 30 28 24 18 10]\n"
     ]
    },
    {
     "data": {
      "text/plain": [
       "array([ 2,  6, 12, 20, 30, 42, 56, 72, 90])"
      ]
     },
     "execution_count": 6,
     "metadata": {},
     "output_type": "execute_result"
    }
   ],
   "source": [
    "v = np.arange(1, 11)\n",
    "m = v.reshape(-1,1) * v\n",
    "\n",
    "trace = np.trace(m)\n",
    "print(trace)\n",
    "\n",
    "mask = np.zeros(shape=m.shape)\n",
    "\n",
    "for i, row in enumerate(mask):\n",
    "  row[9-i] = 1\n",
    "\n",
    "mask = np.array(mask, bool)\n",
    "\n",
    "print(m[mask])\n",
    "\n",
    "diag_up = np.diag(m, 1)\n",
    "diag_up"
   ]
  },
  {
   "cell_type": "markdown",
   "metadata": {},
   "source": [
    "6\\. Use broadcasting to create a grid of distances\n",
    "\n",
    "Route 66 crosses the following cities in the US: Chicago, Springfield, Saint-Louis, Tulsa, Oklahoma City, Amarillo, Santa Fe, Albuquerque, Flagstaff, Los Angeles\n",
    "The corresponding positions in miles are: 0, 198, 303, 736, 871, 1175, 1475, 1544, 1913, 2448\n",
    "\n",
    "  * Construct a 2D grid of distances among each city along Route 66\n",
    "  * Convert that in km (those savages...)"
   ]
  },
  {
   "cell_type": "code",
   "execution_count": 7,
   "metadata": {},
   "outputs": [
    {
     "data": {
      "text/plain": [
       "array([[    0. ,   316.8,   484.8,  1177.6,  1393.6,  1880. ,  2360. ,\n",
       "         2470.4,  3060.8,  3916.8],\n",
       "       [ -316.8,     0. ,   168. ,   860.8,  1076.8,  1563.2,  2043.2,\n",
       "         2153.6,  2744. ,  3600. ],\n",
       "       [ -484.8,  -168. ,     0. ,   692.8,   908.8,  1395.2,  1875.2,\n",
       "         1985.6,  2576. ,  3432. ],\n",
       "       [-1177.6,  -860.8,  -692.8,     0. ,   216. ,   702.4,  1182.4,\n",
       "         1292.8,  1883.2,  2739.2],\n",
       "       [-1393.6, -1076.8,  -908.8,  -216. ,     0. ,   486.4,   966.4,\n",
       "         1076.8,  1667.2,  2523.2],\n",
       "       [-1880. , -1563.2, -1395.2,  -702.4,  -486.4,     0. ,   480. ,\n",
       "          590.4,  1180.8,  2036.8],\n",
       "       [-2360. , -2043.2, -1875.2, -1182.4,  -966.4,  -480. ,     0. ,\n",
       "          110.4,   700.8,  1556.8],\n",
       "       [-2470.4, -2153.6, -1985.6, -1292.8, -1076.8,  -590.4,  -110.4,\n",
       "            0. ,   590.4,  1446.4],\n",
       "       [-3060.8, -2744. , -2576. , -1883.2, -1667.2, -1180.8,  -700.8,\n",
       "         -590.4,     0. ,   856. ],\n",
       "       [-3916.8, -3600. , -3432. , -2739.2, -2523.2, -2036.8, -1556.8,\n",
       "        -1446.4,  -856. ,     0. ]])"
      ]
     },
     "execution_count": 7,
     "metadata": {},
     "output_type": "execute_result"
    }
   ],
   "source": [
    "milestones = np.array([0, 198, 303, 736, 871, 1175, 1475, 1544, 1913, 2448])\n",
    "\n",
    "distances = np.array([milestones - m for m in milestones])\n",
    "\n",
    "conv_rate = 1.6\n",
    "\n",
    "distances = distances * conv_rate\n",
    "distances"
   ]
  },
  {
   "cell_type": "markdown",
   "metadata": {},
   "source": [
    "7\\. Prime numbers sieve: compute the prime numbers in the 0-N (N=99 to start with) range with a sieve (mask).\n",
    "  * Constract a shape (100,) boolean array, the mask\n",
    "  * Identify the multiples of each number starting from 2 and set accordingly the corresponding mask element\n",
    "  * Apply the mask to obtain an array of ordered prime numbers\n",
    "  * Check the performances (timeit); how does it scale with N?\n",
    "  * Implement the optimization suggested in the [sieve of Eratosthenes](https://en.wikipedia.org/wiki/Sieve_of_Eratosthenes)"
   ]
  },
  {
   "cell_type": "code",
   "execution_count": 8,
   "metadata": {},
   "outputs": [
    {
     "name": "stdout",
     "output_type": "stream",
     "text": [
      "443 ms ± 78.4 ms per loop (mean ± std. dev. of 7 runs, 1 loop each)\n"
     ]
    }
   ],
   "source": [
    "def prime_number_computer(N):\n",
    "  shape = (N,)\n",
    "\n",
    "  mask = np.ones(shape=shape, dtype=bool)\n",
    "\n",
    "  for i in range(2, N//2+1):\n",
    "    for j in range(N):\n",
    "      if mask[j] != 0 and j!=i and j%i == 0 :\n",
    "        mask[j] = 0\n",
    "\n",
    "  primes = np.arange(N)[mask]\n",
    "  return primes\n",
    "\n",
    "N = 1000\n",
    "\n",
    "%timeit prime_number_computer(N)"
   ]
  },
  {
   "cell_type": "code",
   "execution_count": 9,
   "metadata": {},
   "outputs": [
    {
     "name": "stdout",
     "output_type": "stream",
     "text": [
      "[  0   1   2   3   5   7  11  13  17  19  23  29  31  37  41  43  47  53\n",
      "  59  61  67  71  73  79  83  89  97 100]\n"
     ]
    }
   ],
   "source": [
    "def Erathostenes_sieve(N):\n",
    "  A = np.ones(shape=(N+1,), dtype=bool)\n",
    "\n",
    "  for i in range(2, int(np.ceil(np.sqrt(N))+1)):\n",
    "    if A[i]:\n",
    "      for j in [i**2 + n*i for n in range(N) if i**2 + n*i < N]:\n",
    "        A[j] = False\n",
    "  \n",
    "  return np.arange(N+1)[A]\n",
    "\n",
    "N = 100\n",
    "\n",
    "print(Erathostenes_sieve(N))"
   ]
  },
  {
   "cell_type": "code",
   "execution_count": 10,
   "metadata": {},
   "outputs": [
    {
     "name": "stdout",
     "output_type": "stream",
     "text": [
      "N = 10\n",
      "Naive:\n",
      "43.1 μs ± 11.1 μs per loop (mean ± std. dev. of 7 runs, 10,000 loops each)\n",
      "Erathostenes:\n",
      "4.56 μs ± 848 ns per loop (mean ± std. dev. of 7 runs, 100,000 loops each)\n",
      "\n",
      " N = 100\n",
      "Naive:\n",
      "4.34 ms ± 672 μs per loop (mean ± std. dev. of 7 runs, 100 loops each)\n",
      "Erathostenes:\n",
      "22.1 μs ± 135 ns per loop (mean ± std. dev. of 7 runs, 10,000 loops each)\n",
      "\n",
      " N = 1000\n",
      "Naive:\n",
      "399 ms ± 2.45 ms per loop (mean ± std. dev. of 7 runs, 1 loop each)\n",
      "Erathostenes:\n",
      "604 μs ± 50.8 μs per loop (mean ± std. dev. of 7 runs, 1,000 loops each)\n"
     ]
    }
   ],
   "source": [
    "# time battle\n",
    "\n",
    "N = 10\n",
    "print(f\"N = {N}\")\n",
    "print(\"Naive:\")\n",
    "%timeit prime_number_computer(N)\n",
    "print(\"Erathostenes:\")\n",
    "%timeit Erathostenes_sieve(N)\n",
    "\n",
    "\n",
    "N = 100\n",
    "print('\\n', f\"N = {N}\")\n",
    "print(\"Naive:\")\n",
    "%timeit prime_number_computer(N)\n",
    "print(\"Erathostenes:\")\n",
    "%timeit Erathostenes_sieve(N)\n",
    "\n",
    "\n",
    "N = 1000\n",
    "print('\\n', f\"N = {N}\")\n",
    "print(\"Naive:\")\n",
    "%timeit prime_number_computer(N)\n",
    "print(\"Erathostenes:\")\n",
    "%timeit Erathostenes_sieve(N)"
   ]
  },
  {
   "cell_type": "markdown",
   "metadata": {},
   "source": [
    "**N.B. the following exercises are meant to be solved only if you are familiar with the numpy random library. If not you can skip them (postponed for one of the next exercise sessions)**\n"
   ]
  },
  {
   "cell_type": "markdown",
   "metadata": {},
   "source": [
    "8\\. Diffusion using random walk\n",
    "\n",
    "Consider a simple random walk process: at each step in time, a walker jumps right or left (+1 or -1) with equal probability. The goal is to find the typical distance from the origin of a random walker after a given amount of time. \n",
    "To do that, let's simulate many walkers and create a 2D array with each walker as a raw and the actual time evolution as columns\n",
    "\n",
    "  * Take 1000 walkers and let them walk for 200 steps\n",
    "  * Use randint to create a 2D array of size walkers x steps with values -1 or 1\n",
    "  * Build the actual walking distances for each walker (i.e. another 2D array \"summing on each raw\")\n",
    "  * Take the square of that 2D array (elementwise)\n",
    "  * Compute the mean of the squared distances at each step (i.e. the mean along the columns)\n",
    "  * Plot the average distances (sqrt(distance\\*\\*2)) as a function of time (step)\n",
    "  \n",
    "Did you get what you expected?"
   ]
  },
  {
   "cell_type": "code",
   "execution_count": null,
   "metadata": {},
   "outputs": [
    {
     "name": "stdout",
     "output_type": "stream",
     "text": [
      "[[ -2]\n",
      " [ 10]\n",
      " [-34]\n",
      " [-44]\n",
      " [ 16]\n",
      " [ 18]\n",
      " [ 12]\n",
      " [-32]\n",
      " [-24]\n",
      " [ 32]\n",
      " [ 14]\n",
      " [ 26]\n",
      " [-34]\n",
      " [-48]\n",
      " [-20]\n",
      " [-24]\n",
      " [ 26]\n",
      " [ 48]\n",
      " [ 28]\n",
      " [ 14]\n",
      " [-12]\n",
      " [-74]\n",
      " [-42]\n",
      " [-68]\n",
      " [ 26]\n",
      " [ 20]\n",
      " [-42]\n",
      " [-26]\n",
      " [ 10]\n",
      " [ 20]\n",
      " [ 68]\n",
      " [ 38]\n",
      " [  8]\n",
      " [ 44]\n",
      " [-38]\n",
      " [ 34]\n",
      " [-14]\n",
      " [ 68]\n",
      " [  6]\n",
      " [-60]\n",
      " [  2]\n",
      " [-10]\n",
      " [-36]\n",
      " [ 50]\n",
      " [-36]\n",
      " [ 12]\n",
      " [ -8]\n",
      " [-58]\n",
      " [  8]\n",
      " [ -2]\n",
      " [-64]\n",
      " [  8]\n",
      " [ 62]\n",
      " [ 30]\n",
      " [-26]\n",
      " [  2]\n",
      " [-36]\n",
      " [  2]\n",
      " [-52]\n",
      " [-28]\n",
      " [ 36]\n",
      " [-20]\n",
      " [-14]\n",
      " [ -8]\n",
      " [  4]\n",
      " [ 32]\n",
      " [ 14]\n",
      " [-56]\n",
      " [ 14]\n",
      " [  2]\n",
      " [ 64]\n",
      " [-28]\n",
      " [-12]\n",
      " [-22]\n",
      " [ 20]\n",
      " [ 56]\n",
      " [-18]\n",
      " [ 24]\n",
      " [ 18]\n",
      " [ 60]\n",
      " [-14]\n",
      " [ -8]\n",
      " [ -8]\n",
      " [-50]\n",
      " [  0]\n",
      " [ -6]\n",
      " [ 34]\n",
      " [ 62]\n",
      " [ -2]\n",
      " [ 30]\n",
      " [ 20]\n",
      " [ 12]\n",
      " [ 18]\n",
      " [  8]\n",
      " [  6]\n",
      " [-56]\n",
      " [  0]\n",
      " [ -6]\n",
      " [ 24]\n",
      " [-20]\n",
      " [ -8]\n",
      " [ 18]\n",
      " [ -8]\n",
      " [ -8]\n",
      " [ 64]\n",
      " [ 30]\n",
      " [-12]\n",
      " [ 48]\n",
      " [  4]\n",
      " [ -4]\n",
      " [ 48]\n",
      " [-22]\n",
      " [-42]\n",
      " [-20]\n",
      " [-20]\n",
      " [ -6]\n",
      " [  4]\n",
      " [-26]\n",
      " [ 20]\n",
      " [-24]\n",
      " [ -8]\n",
      " [ 24]\n",
      " [ 42]\n",
      " [ 34]\n",
      " [-42]\n",
      " [-14]\n",
      " [ 38]\n",
      " [ 36]\n",
      " [ 16]\n",
      " [ 10]\n",
      " [-20]\n",
      " [ -8]\n",
      " [-42]\n",
      " [ -2]\n",
      " [-88]\n",
      " [ -6]\n",
      " [-48]\n",
      " [-22]\n",
      " [-20]\n",
      " [ -2]\n",
      " [-18]\n",
      " [ 30]\n",
      " [-24]\n",
      " [ 34]\n",
      " [-42]\n",
      " [ 28]\n",
      " [-56]\n",
      " [ 28]\n",
      " [-46]\n",
      " [ -6]\n",
      " [  0]\n",
      " [-14]\n",
      " [  2]\n",
      " [-38]\n",
      " [ 18]\n",
      " [  8]\n",
      " [-28]\n",
      " [ 14]\n",
      " [-12]\n",
      " [ 34]\n",
      " [ 40]\n",
      " [-24]\n",
      " [-12]\n",
      " [ 74]\n",
      " [ 38]\n",
      " [-40]\n",
      " [ -6]\n",
      " [ 16]\n",
      " [ 18]\n",
      " [ 36]\n",
      " [  4]\n",
      " [ -4]\n",
      " [-24]\n",
      " [ 26]\n",
      " [ 22]\n",
      " [-32]\n",
      " [-28]\n",
      " [  4]\n",
      " [ 24]\n",
      " [ 18]\n",
      " [  0]\n",
      " [-32]\n",
      " [ 20]\n",
      " [-12]\n",
      " [-12]\n",
      " [  6]\n",
      " [ -8]\n",
      " [ 26]\n",
      " [ -6]\n",
      " [-26]\n",
      " [ 48]\n",
      " [ -4]\n",
      " [ 32]\n",
      " [ 44]\n",
      " [  2]\n",
      " [-20]\n",
      " [ 62]\n",
      " [ 28]\n",
      " [  8]\n",
      " [ 12]]\n"
     ]
    }
   ],
   "source": [
    "walkers = 1000\n",
    "steps = 200\n",
    "\n",
    "shape = (walkers, steps)\n",
    "\n",
    "step_sequence = np.random.randint(0, 2, size=shape) * 2 - 1\n",
    "\n",
    "\n",
    "\n",
    "\n",
    "print(distances)"
   ]
  },
  {
   "cell_type": "markdown",
   "metadata": {},
   "source": [
    "9\\. Analyze a data file \n",
    "  * Download the population of hares, lynxes and carrots at the beginning of the last century.\n",
    "    ```python\n",
    "    ! wget https://www.dropbox.com/s/3vigxoqayo389uc/populations.txt\n",
    "    ```\n",
    "\n",
    "  * Check the content by looking within the file\n",
    "  * Load the data (use an appropriate numpy method) into a 2D array\n",
    "  * Create arrays out of the columns, the arrays being (in order): *year*, *hares*, *lynxes*, *carrots* \n",
    "  * Plot the 3 populations over the years\n",
    "  * Compute the main statistical properties of the dataset (mean, std, correlations, etc.)\n",
    "  * Which species has the highest population each year?\n",
    "\n",
    "Do you feel there is some evident correlation here? [Studies](https://www.enr.gov.nt.ca/en/services/lynx/lynx-snowshoe-hare-cycle) tend to believe so."
   ]
  }
 ],
 "metadata": {
  "kernelspec": {
   "display_name": ".venv",
   "language": "python",
   "name": "python3"
  },
  "language_info": {
   "codemirror_mode": {
    "name": "ipython",
    "version": 3
   },
   "file_extension": ".py",
   "mimetype": "text/x-python",
   "name": "python",
   "nbconvert_exporter": "python",
   "pygments_lexer": "ipython3",
   "version": "3.12.3"
  }
 },
 "nbformat": 4,
 "nbformat_minor": 2
}
